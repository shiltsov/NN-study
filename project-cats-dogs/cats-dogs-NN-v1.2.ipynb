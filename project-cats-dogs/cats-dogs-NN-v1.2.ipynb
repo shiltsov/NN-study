{
 "cells": [
  {
   "cell_type": "code",
   "execution_count": 1,
   "metadata": {},
   "outputs": [],
   "source": [
    "import h5py\n",
    "import numpy as np\n",
    "from matplotlib import pyplot as plt\n",
    "from skimage import data, io, filters, util, color\n",
    "from skimage.transform import rescale, resize, downscale_local_mean\n",
    "from skimage import img_as_ubyte\n",
    "from sklearn.metrics import accuracy_score\n",
    "\n",
    "import os"
   ]
  },
  {
   "cell_type": "code",
   "execution_count": 2,
   "metadata": {},
   "outputs": [
    {
     "name": "stdout",
     "output_type": "stream",
     "text": [
      "0\n"
     ]
    },
    {
     "data": {
      "image/png": "[encoded data removed]",
      "text/plain": [
       "<Figure size 432x288 with 1 Axes>"
      ]
     },
     "metadata": {
      "needs_background": "light"
     },
     "output_type": "display_data"
    }
   ],
   "source": [
    "with h5py.File('c-d-ds-small.hdf5', 'r') as f:\n",
    "#with h5py.File('c-d-ds.hdf5', 'r') as f:\n",
    "    X_train_org = f['X_train'][:,:,:,:]\n",
    "    y_train_org = f['y_train'][:]\n",
    "    X_test_org =  f['X_test'][:,:,:,:]\n",
    "    y_test_org =  f['y_test'][:]\n",
    "\n",
    "io.imshow(X_train_org[69,:,:,:])    \n",
    "print(y_train_org[69])\n"
   ]
  },
  {
   "cell_type": "code",
   "execution_count": 3,
   "metadata": {},
   "outputs": [
    {
     "data": {
      "text/plain": [
       "((1000, 12288), (1000, 1), (200, 12288), (200, 1))"
      ]
     },
     "execution_count": 3,
     "metadata": {},
     "output_type": "execute_result"
    }
   ],
   "source": [
    "y_train = np.expand_dims(y_train_org, axis=1)\n",
    "X_train = X_train_org.reshape(X_train_org.shape[0], -1) / 256\n",
    "\n",
    "y_test = np.expand_dims(y_test_org, axis=1)\n",
    "X_test = X_test_org.reshape(X_test_org.shape[0], -1) / 256\n",
    "\n",
    "X_train.shape, y_train.shape, X_test.shape, y_test.shape"
   ]
  },
  {
   "cell_type": "code",
   "execution_count": 4,
   "metadata": {},
   "outputs": [],
   "source": [
    "# вспомогательные функции\n",
    "def relu(X):\n",
    "    return np.maximum(0, X)\n",
    "\n",
    "def relu_der(X):\n",
    "    return np.maximum(0, X) / X\n",
    "\n",
    "def sigmoid(X):\n",
    "    Y = 1./ (1 + np.exp(-X))\n",
    "    return Y\n",
    "\n",
    "def sigmoid_der(X):\n",
    "    Y = sigmoid(X) * (1 - sigmoid(X))\n",
    "    return Y\n",
    "\n",
    "def loss(a, y):\n",
    "    # loss - бинарная кроссэнтропия \n",
    "    return -(y*np.log(a) + (1-y)*np.log(1-a))\n",
    "\n",
    "def L(a, y):\n",
    "    # cost function - ее оптимизируем\n",
    "    #print('a = \\n', a, \"\\n\")\n",
    "    #print('y = \\n', y, \"\\n\")\n",
    "    return -(1./y.shape[1]) * np.sum(loss(a, y))\n"
   ]
  },
  {
   "cell_type": "code",
   "execution_count": 12,
   "metadata": {},
   "outputs": [],
   "source": [
    "class NeuralNetwork():\n",
    "    \n",
    "    def __init__(self, shapes, activations, debug=False):\n",
    "        # shapes - список числа нейронов в слоях кроме последнего, 1-й - размерность входа\n",
    "        self.shapes = shapes\n",
    "        self.layers = len(shapes) -1\n",
    "        self.activations = activations\n",
    "        self.debug = debug\n",
    "        self._init_params()\n",
    "        self.losses_train = []\n",
    "        self.acc_test = []\n",
    "        self.acc_train = []\n",
    "        \n",
    "\n",
    "    \n",
    "    def _init_params(self, type='rand'):\n",
    "        if type == 'rand':\n",
    "            self.W = []\n",
    "            self.b = []\n",
    "            for i in range(1, len(self.shapes)):\n",
    "                self.W.append(np.random.randn(self.shapes[i], self.shapes[i-1]) *0.01)\n",
    "                self.b.append(np.zeros((self.shapes[i], 1)))\n",
    "\n",
    "        if self.debug:\n",
    "            print('--- Матрицы параметров ---')        \n",
    "            for W, b in zip(self.W, self.b):\n",
    "                print(W.shape, b.shape)\n",
    "            print('--------------------------')        \n",
    "            \n",
    "    def normalize_input(self, X, train=True):\n",
    "        if train:\n",
    "            self.mu = np.mean(X)\n",
    "            self.sigma = np.var(X)\n",
    "        return (X - self.mu) / self.sigma\n",
    "        \n",
    "        \n",
    "    def _forward_pass(self, X):\n",
    "        # делаем без батчей - сразу весь кусок что есть, надеюсь не подавимся\n",
    "        A = X\n",
    "        cache = [(X, X)] # она понадобится чтобы посчитать градиент по ней для первого слоя\n",
    "        for W, b, activation in list(zip(self.W, self.b, self.activations)):\n",
    "            Z = np.dot(W, A) + b\n",
    "            A = activation(Z)\n",
    "            cache.append((A,Z)) \n",
    "        return A, cache\n",
    "            \n",
    "    def _backward_pass(self, cache, dL):\n",
    "        # chache содержит все активации по всем слоям, dA - это производная \n",
    "        dW_arr = []\n",
    "        db_arr = []\n",
    "\n",
    "        dA = dL\n",
    "        m = dA.shape[1]\n",
    "\n",
    "        # они идут от 1-го слоя к последнему, а нам надо наоборот\n",
    "        for i in range(self.layers):\n",
    "            if self.debug:\n",
    "                print(self.layers - i - 1)\n",
    "                \n",
    "            # смотрим что в этом слое активация и какая у нее производная\n",
    "            if self.activations[self.layers - i - 1] == sigmoid:\n",
    "                actitation_der = sigmoid_der\n",
    "            if self.activations[self.layers - i - 1] == relu:\n",
    "                actitation_der = relu_der\n",
    "\n",
    "            Z = cache[self.layers - i][1]                \n",
    "            dZ = actitation_der(Z) * dA\n",
    "            if self.debug:\n",
    "                print('dZ.shape=',dZ.shape)\n",
    "            \n",
    "            db = np.expand_dims((1./m) * np.sum(dZ, axis=1), axis=0).T\n",
    "            db_arr.append(db)\n",
    "            if self.debug:            \n",
    "                print('db.shape=',db.shape)\n",
    "                \n",
    "            dW = (1./m) * np.dot(dZ, cache[self.layers-i-1][0].T) \n",
    "            dW_arr.append(dW)\n",
    "            if self.debug:            \n",
    "                print('W.[self.layers - ',i-1,']', self.W[self.layers - i -1].T.shape)\n",
    "                print('dW.shape=',dW.shape, 'cache[self.layers-',i,'-1][0].T',cache[self.layers-i-1][0].shape)\n",
    "\n",
    "            dA = np.dot(self.W[self.layers-i-1].T, dZ) \n",
    "            if self.debug:\n",
    "                print('dA.shape=', dA.shape)\n",
    "        \n",
    "        dW_arr.reverse()\n",
    "        db_arr.reverse()\n",
    "        \n",
    "        return (dW_arr, db_arr)\n",
    "        \n",
    "    def _update_params(self, grads, lr):\n",
    "        # градиенты [(W1, b1), ... , (Wn, bn)]\n",
    "        \n",
    "        for i in range(len(self.W)):\n",
    "            if self.debug:\n",
    "                print('layer: ', i, ' norm W:', np.linalg.norm(self.W[i]), ' norm b:', \n",
    "                      np.linalg.norm(self.b[i]))\n",
    "                \n",
    "            self.W[i] = self.W[i] - lr * grads[0][i]\n",
    "            self.b[i] = self.b[i] - lr * grads[1][i]\n",
    "            \n",
    "    def fit(self, X, y, X_test, y_test, epocs=30, lr=0.01, batch_size=100):\n",
    "\n",
    "        X = self.normalize_input(X, train=True).T\n",
    "        \n",
    "        if self.debug:\n",
    "            print('--- входы ---------------------')\n",
    "            print('X.shape=' , X.shape, 'y.shape=' , y.shape)   \n",
    "        \n",
    "        add_tail = 0 if X.shape[1] % batch_size == 0 else 1\n",
    "        \n",
    "        for i in range(epocs):\n",
    "            for j in range(0, X.shape[1] // batch_size + add_tail):\n",
    "                if self.debug:\n",
    "                    print(batch_size*j , \":\",  min(X.shape[1], batch_size*(j+1)))\n",
    "               \n",
    "                X_batch = X[:, batch_size*j : min(X.shape[1], batch_size*(j+1))]\n",
    "                y_batch = y[:, batch_size*j : min(X.shape[1], batch_size*(j+1))]\n",
    "                \n",
    "                A, Cache = self._forward_pass(X_batch)\n",
    "                \n",
    "                l = L(A, y_batch)\n",
    "                self.losses_train.append(l)\n",
    "\n",
    "                dL = - (np.divide(y_batch, A) - np.divide(1 - y_batch, 1 - A))\n",
    "                grads = self._backward_pass(Cache, dL)\n",
    "                \n",
    "                if self.debug:\n",
    "                    dW, db = grads\n",
    "                    print('-------------- grads ------------------')\n",
    "                    for dW_, db_ in zip(dW,db):\n",
    "                        print('dW:', dW_.shape, ' db:', db_.shape)\n",
    "                    print('---------------------------------------')\n",
    "\n",
    "                self._update_params(grads, lr)\n",
    "            \n",
    "            \n",
    "            print(\" ---------------- epoch: \", i+1, ' -----------------------')\n",
    "            print(\" loss: \", l)\n",
    "            \n",
    "            # проверяем точность на тесте и точность на трейне\n",
    "            predict_train = np.round(self.predict(X))\n",
    "            acc_train = accuracy_score(np.squeeze(y), np.squeeze(predict_train))\n",
    "            self.acc_train.append(acc_train)\n",
    "            y_hat = np.round(self.predict(X_test.T)) \n",
    "            acc_test = accuracy_score(np.squeeze(y_test), np.squeeze(y_hat))\n",
    "            self.acc_test.append(acc_test)\n",
    "            print(\" loss: \", l, ' acc_train:', acc_train, ' acc_test:', acc_test)\n",
    "\n",
    "    \n",
    "    def predict(self, X):\n",
    "        X = self.normalize_input(X, train=False)\n",
    "        A, _ = self._forward_pass(X)\n",
    "        return A\n"
   ]
  },
  {
   "cell_type": "code",
   "execution_count": 13,
   "metadata": {
    "scrolled": false
   },
   "outputs": [
    {
     "name": "stdout",
     "output_type": "stream",
     "text": [
      " ---------------- epoch:  1  -----------------------\n",
      " loss:  -1.9824718303661772\n",
      " loss:  -1.9824718303661772  acc_train: 0.511  acc_test: 0.515\n",
      " ---------------- epoch:  2  -----------------------\n",
      " loss:  -0.9809643916840767\n",
      " loss:  -0.9809643916840767  acc_train: 0.55  acc_test: 0.525\n",
      " ---------------- epoch:  3  -----------------------\n",
      " loss:  -1.4606158132258387\n",
      " loss:  -1.4606158132258387  acc_train: 0.681  acc_test: 0.545\n",
      " ---------------- epoch:  4  -----------------------\n",
      " loss:  -0.7147992092440295\n",
      " loss:  -0.7147992092440295  acc_train: 0.797  acc_test: 0.55\n",
      " ---------------- epoch:  5  -----------------------\n",
      " loss:  -0.4204081370758657\n",
      " loss:  -0.4204081370758657  acc_train: 0.768  acc_test: 0.565\n",
      " ---------------- epoch:  6  -----------------------\n",
      " loss:  -0.3421251519822001\n",
      " loss:  -0.3421251519822001  acc_train: 0.902  acc_test: 0.565\n",
      " ---------------- epoch:  7  -----------------------\n",
      " loss:  -0.2854077451843758\n",
      " loss:  -0.2854077451843758  acc_train: 0.957  acc_test: 0.585\n",
      " ---------------- epoch:  8  -----------------------\n",
      " loss:  -0.21330741477765677\n",
      " loss:  -0.21330741477765677  acc_train: 0.965  acc_test: 0.58\n",
      " ---------------- epoch:  9  -----------------------\n",
      " loss:  -0.18357252459321274\n",
      " loss:  -0.18357252459321274  acc_train: 0.973  acc_test: 0.555\n",
      " ---------------- epoch:  10  -----------------------\n",
      " loss:  -0.1411610694161282\n",
      " loss:  -0.1411610694161282  acc_train: 0.942  acc_test: 0.64\n",
      " ---------------- epoch:  11  -----------------------\n",
      " loss:  -0.224649118463337\n",
      " loss:  -0.224649118463337  acc_train: 0.832  acc_test: 0.615\n",
      " ---------------- epoch:  12  -----------------------\n",
      " loss:  -0.31692831817743133\n",
      " loss:  -0.31692831817743133  acc_train: 0.859  acc_test: 0.525\n",
      " ---------------- epoch:  13  -----------------------\n",
      " loss:  -0.10410286341387925\n",
      " loss:  -0.10410286341387925  acc_train: 0.988  acc_test: 0.59\n",
      " ---------------- epoch:  14  -----------------------\n",
      " loss:  -0.10073222874346037\n",
      " loss:  -0.10073222874346037  acc_train: 0.967  acc_test: 0.615\n",
      " ---------------- epoch:  15  -----------------------\n",
      " loss:  -0.07055829139264035\n",
      " loss:  -0.07055829139264035  acc_train: 0.998  acc_test: 0.615\n",
      " ---------------- epoch:  16  -----------------------\n",
      " loss:  -0.060757003798697806\n",
      " loss:  -0.060757003798697806  acc_train: 0.999  acc_test: 0.6\n",
      " ---------------- epoch:  17  -----------------------\n",
      " loss:  -0.05239087413057138\n",
      " loss:  -0.05239087413057138  acc_train: 1.0  acc_test: 0.59\n",
      " ---------------- epoch:  18  -----------------------\n",
      " loss:  -0.045814366698450674\n",
      " loss:  -0.045814366698450674  acc_train: 1.0  acc_test: 0.595\n",
      " ---------------- epoch:  19  -----------------------\n",
      " loss:  -0.04062139880392789\n",
      " loss:  -0.04062139880392789  acc_train: 1.0  acc_test: 0.59\n",
      " ---------------- epoch:  20  -----------------------\n",
      " loss:  -0.036330092197804795\n",
      " loss:  -0.036330092197804795  acc_train: 1.0  acc_test: 0.59\n",
      " ---------------- epoch:  21  -----------------------\n",
      " loss:  -0.032722363407848835\n",
      " loss:  -0.032722363407848835  acc_train: 1.0  acc_test: 0.595\n",
      " ---------------- epoch:  22  -----------------------\n",
      " loss:  -0.02973647492712739\n",
      " loss:  -0.02973647492712739  acc_train: 1.0  acc_test: 0.595\n",
      " ---------------- epoch:  23  -----------------------\n",
      " loss:  -0.02719260880663255\n",
      " loss:  -0.02719260880663255  acc_train: 1.0  acc_test: 0.6\n",
      " ---------------- epoch:  24  -----------------------\n",
      " loss:  -0.025000448578783942\n",
      " loss:  -0.025000448578783942  acc_train: 1.0  acc_test: 0.6\n",
      " ---------------- epoch:  25  -----------------------\n",
      " loss:  -0.023089578108895274\n",
      " loss:  -0.023089578108895274  acc_train: 1.0  acc_test: 0.605\n",
      " ---------------- epoch:  26  -----------------------\n",
      " loss:  -0.02144745938727799\n",
      " loss:  -0.02144745938727799  acc_train: 1.0  acc_test: 0.605\n",
      " ---------------- epoch:  27  -----------------------\n",
      " loss:  -0.019992014765437337\n",
      " loss:  -0.019992014765437337  acc_train: 1.0  acc_test: 0.61\n",
      " ---------------- epoch:  28  -----------------------\n",
      " loss:  -0.018718565158775523\n",
      " loss:  -0.018718565158775523  acc_train: 1.0  acc_test: 0.61\n",
      " ---------------- epoch:  29  -----------------------\n",
      " loss:  -0.01755669562402558\n",
      " loss:  -0.01755669562402558  acc_train: 1.0  acc_test: 0.61\n",
      " ---------------- epoch:  30  -----------------------\n",
      " loss:  -0.016537924273162818\n",
      " loss:  -0.016537924273162818  acc_train: 1.0  acc_test: 0.605\n"
     ]
    }
   ],
   "source": [
    "NN = NeuralNetwork([12288, 1000, 1], activations=[relu, sigmoid])\n",
    "NN.fit(X_train, y_train.T, X_test, y_test.T)"
   ]
  },
  {
   "cell_type": "code",
   "execution_count": 14,
   "metadata": {},
   "outputs": [
    {
     "data": {
      "image/png": "[encoded data removed]",
      "text/plain": [
       "<Figure size 432x288 with 1 Axes>"
      ]
     },
     "metadata": {
      "needs_background": "light"
     },
     "output_type": "display_data"
    }
   ],
   "source": [
    "plt.plot(NN.acc_test)\n",
    "plt.plot(NN.acc_train)\n",
    "plt.show()"
   ]
  },
  {
   "cell_type": "code",
   "execution_count": 15,
   "metadata": {},
   "outputs": [
    {
     "data": {
      "text/plain": [
       "0.605"
      ]
     },
     "execution_count": 15,
     "metadata": {},
     "output_type": "execute_result"
    }
   ],
   "source": [
    "y_hat = NN.predict(X_test.T) \n",
    "y_hat = np.round(y_hat.reshape(y_hat.shape[1],))\n",
    "accuracy_score(y_test, y_hat)"
   ]
  },
  {
   "cell_type": "code",
   "execution_count": 16,
   "metadata": {},
   "outputs": [
    {
     "data": {
      "text/plain": [
       "[<matplotlib.lines.Line2D at 0x7f61f00a3cd0>]"
      ]
     },
     "execution_count": 16,
     "metadata": {},
     "output_type": "execute_result"
    },
    {
     "data": {
      "image/png": "[encoded data removed]",
      "text/plain": [
       "<Figure size 432x288 with 1 Axes>"
      ]
     },
     "metadata": {
      "needs_background": "light"
     },
     "output_type": "display_data"
    }
   ],
   "source": [
    "plt.plot(NN.losses_train)"
   ]
  },
  {
   "cell_type": "code",
   "execution_count": null,
   "metadata": {},
   "outputs": [],
   "source": []
  }
 ],
 "metadata": {
  "kernelspec": {
   "display_name": "Python 3",
   "language": "python",
   "name": "python3"
  },
  "language_info": {
   "codemirror_mode": {
    "name": "ipython",
    "version": 3
   },
   "file_extension": ".py",
   "mimetype": "text/x-python",
   "name": "python",
   "nbconvert_exporter": "python",
   "pygments_lexer": "ipython3",
   "version": "3.7.6"
  }
 },
 "nbformat": 4,
 "nbformat_minor": 4
}
