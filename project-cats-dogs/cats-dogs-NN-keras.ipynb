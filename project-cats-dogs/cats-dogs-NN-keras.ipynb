{
 "cells": [
  {
   "cell_type": "code",
   "execution_count": 8,
   "metadata": {},
   "outputs": [],
   "source": [
    "import h5py\n",
    "import numpy as np\n",
    "from matplotlib import pyplot as plt\n",
    "from skimage import data, io, filters, util, color\n",
    "from skimage.transform import rescale, resize, downscale_local_mean\n",
    "from skimage import img_as_ubyte\n",
    "from sklearn.metrics import accuracy_score\n",
    "from tensorflow import keras \n",
    "from tensorflow.keras.optimizers import RMSprop\n",
    "\n",
    "import os\n"
   ]
  },
  {
   "cell_type": "code",
   "execution_count": 9,
   "metadata": {},
   "outputs": [
    {
     "name": "stdout",
     "output_type": "stream",
     "text": [
      "0\n"
     ]
    },
    {
     "data": {
      "image/png": "[encoded data removed]",
      "text/plain": [
       "<Figure size 432x288 with 1 Axes>"
      ]
     },
     "metadata": {
      "needs_background": "light"
     },
     "output_type": "display_data"
    }
   ],
   "source": [
    "with h5py.File('c-d-ds-small.hdf5', 'r') as f:\n",
    "#with h5py.File('c-d-ds.hdf5', 'r') as f:\n",
    "    X_train_org = f['X_train'][:,:,:,:]\n",
    "    y_train_org = f['y_train'][:]\n",
    "    X_test_org =  f['X_test'][:,:,:,:]\n",
    "    y_test_org =  f['y_test'][:]\n",
    "\n",
    "io.imshow(X_train_org[69,:,:,:])    \n",
    "print(y_train_org[69])\n"
   ]
  },
  {
   "cell_type": "code",
   "execution_count": 10,
   "metadata": {},
   "outputs": [
    {
     "data": {
      "text/plain": [
       "((1000, 64, 64, 3), (1000,), (200, 64, 64, 3), (200,))"
      ]
     },
     "execution_count": 10,
     "metadata": {},
     "output_type": "execute_result"
    }
   ],
   "source": [
    "X_train = X_train_org / 256\n",
    "y_train = y_train_org\n",
    "\n",
    "X_test = X_test_org / 256\n",
    "y_test = y_test_org\n",
    "\n",
    "X_train.shape , y_train.shape, X_test.shape, y_test.shape"
   ]
  },
  {
   "cell_type": "code",
   "execution_count": null,
   "metadata": {},
   "outputs": [],
   "source": []
  },
  {
   "cell_type": "code",
   "execution_count": 16,
   "metadata": {},
   "outputs": [],
   "source": [
    "model = keras.models.Sequential([\n",
    "    keras.layers.Conv2D(16, (3,3), activation='relu', input_shape=(64,64,3)),\n",
    "    keras.layers.MaxPooling2D(2,2),\n",
    "    keras.layers.Dropout(0.2),\n",
    "    keras.layers.Conv2D(8, (3,3), activation='relu'),\n",
    "    keras.layers.MaxPooling2D(2,2),\n",
    "    keras.layers.Flatten(),\n",
    "    keras.layers.Dense(256, activation='relu'),\n",
    "    keras.layers.Dense(1, activation='sigmoid')\n",
    "])\n",
    "\n",
    "model.compile(optimizer=RMSprop(lr=0.002), loss='binary_crossentropy', metrics=['acc'])"
   ]
  },
  {
   "cell_type": "code",
   "execution_count": null,
   "metadata": {},
   "outputs": [
    {
     "name": "stdout",
     "output_type": "stream",
     "text": [
      "Epoch 1/15\n",
      "32/32 [==============================] - 54s 2s/step - loss: 0.8072 - acc: 0.5150\n",
      "Epoch 2/15\n",
      "32/32 [==============================] - 54s 2s/step - loss: 0.6902 - acc: 0.5440\n",
      "Epoch 3/15\n",
      "32/32 [==============================] - 41s 1s/step - loss: 0.6912 - acc: 0.5770\n",
      "Epoch 4/15\n",
      "32/32 [==============================] - 38s 1s/step - loss: 0.6673 - acc: 0.5880\n",
      "Epoch 5/15\n",
      "32/32 [==============================] - 38s 1s/step - loss: 0.6773 - acc: 0.6160\n",
      "Epoch 6/15\n",
      " 3/32 [=>............................] - ETA: 24s - loss: 0.6368 - acc: 0.6875"
     ]
    }
   ],
   "source": [
    "history = model.fit(X_train, y_train, epochs=15, verbose=1)"
   ]
  },
  {
   "cell_type": "code",
   "execution_count": 15,
   "metadata": {
    "scrolled": false
   },
   "outputs": [
    {
     "data": {
      "text/plain": [
       "0.52"
      ]
     },
     "execution_count": 15,
     "metadata": {},
     "output_type": "execute_result"
    }
   ],
   "source": [
    "y_hat = model.predict(X_test) \n",
    "y_hat = np.round(y_hat)\n",
    "accuracy_score(y_test, y_hat)"
   ]
  },
  {
   "cell_type": "code",
   "execution_count": null,
   "metadata": {},
   "outputs": [],
   "source": []
  },
  {
   "cell_type": "code",
   "execution_count": null,
   "metadata": {},
   "outputs": [],
   "source": []
  }
 ],
 "metadata": {
  "kernelspec": {
   "display_name": "Python 3",
   "language": "python",
   "name": "python3"
  },
  "language_info": {
   "codemirror_mode": {
    "name": "ipython",
    "version": 3
   },
   "file_extension": ".py",
   "mimetype": "text/x-python",
   "name": "python",
   "nbconvert_exporter": "python",
   "pygments_lexer": "ipython3",
   "version": "3.7.6"
  }
 },
 "nbformat": 4,
 "nbformat_minor": 4
}
