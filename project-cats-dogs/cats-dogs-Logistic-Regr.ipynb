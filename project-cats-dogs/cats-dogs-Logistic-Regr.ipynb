{
 "cells": [
  {
   "cell_type": "code",
   "execution_count": 1,
   "metadata": {},
   "outputs": [],
   "source": [
    "import h5py\n",
    "import numpy as np\n",
    "from matplotlib import pyplot as plt\n",
    "from skimage import data, io, filters, util, color\n",
    "from skimage.transform import rescale, resize, downscale_local_mean\n",
    "from skimage import img_as_ubyte\n",
    "from sklearn.metrics import accuracy_score\n",
    "\n",
    "import os\n"
   ]
  },
  {
   "cell_type": "code",
   "execution_count": 2,
   "metadata": {},
   "outputs": [
    {
     "name": "stdout",
     "output_type": "stream",
     "text": [
      "0\n"
     ]
    },
    {
     "data": {
      "image/png": "[encoded data removed]",
      "text/plain": [
       "<Figure size 432x288 with 1 Axes>"
      ]
     },
     "metadata": {
      "needs_background": "light"
     },
     "output_type": "display_data"
    }
   ],
   "source": [
    "with h5py.File('c-d-ds-small.hdf5', 'r') as f:\n",
    "#with h5py.File('c-d-ds.hdf5', 'r') as f:\n",
    "    X_train_org = f['X_train'][:,:,:,:]\n",
    "    y_train_org = f['y_train'][:]\n",
    "    X_test_org =  f['X_test'][:,:,:,:]\n",
    "    y_test_org =  f['y_test'][:]\n",
    "\n",
    "io.imshow(X_train_org[10,:,:,:])    \n",
    "print(y_train_org[10])\n"
   ]
  },
  {
   "cell_type": "code",
   "execution_count": 3,
   "metadata": {},
   "outputs": [
    {
     "data": {
      "text/plain": [
       "((1000, 12288), (1000, 1), (200, 12288), (200, 1))"
      ]
     },
     "execution_count": 3,
     "metadata": {},
     "output_type": "execute_result"
    }
   ],
   "source": [
    "y_train = np.expand_dims(y_train_org, axis=1)\n",
    "X_train = X_train_org.reshape(X_train_org.shape[0], -1) / 256\n",
    "\n",
    "y_test = np.expand_dims(y_test_org, axis=1)\n",
    "X_test = X_test_org.reshape(X_test_org.shape[0], -1) / 256\n",
    "\n",
    "X_train.shape, y_train.shape, X_test.shape, y_test.shape"
   ]
  },
  {
   "cell_type": "markdown",
   "metadata": {},
   "source": [
    "## Датасеты готовы, делаем модель"
   ]
  },
  {
   "cell_type": "code",
   "execution_count": 4,
   "metadata": {},
   "outputs": [],
   "source": [
    "# вспомогательные функции\n",
    "def relu(X):\n",
    "    return np.maximum(0, X)\n",
    "\n",
    "def relu_der(X):\n",
    "    return np.divide(np.maximum(0, X) / X)\n",
    "\n",
    "def sigmoid(X):\n",
    "    Y = 1./ (1 + np.exp(-X))\n",
    "    return Y\n",
    "    \n",
    "def loss(y, y_hat):\n",
    "    return -(y*np.log(y_hat) + (1-y)*np.log(1-y_hat))\n",
    "\n",
    "def L(y, y_hat):\n",
    "    #print(\"y.shape=\", y.shape, \"A.shape=\", y_hat.shape)\n",
    "    #print(\"Loss=\", np.sum(loss(y, y_hat)))\n",
    "    return np.sum(loss(y, y_hat))"
   ]
  },
  {
   "cell_type": "markdown",
   "metadata": {},
   "source": [
    "## Просто логистическая регрессия. Тупо\n"
   ]
  },
  {
   "cell_type": "code",
   "execution_count": 7,
   "metadata": {},
   "outputs": [],
   "source": [
    "class LogisticRegression():\n",
    "    \n",
    "    def __init__(self):\n",
    "        self.losses = []\n",
    "    \n",
    "    def _init_params(self, X_shape):\n",
    "        self.W = np.random.randn(1, X_shape[1]) *.05\n",
    "        self.b = np.zeros((1, 1))\n",
    "        \n",
    "    def _update_params(self, dW, db, lr):\n",
    "        #print(dW[0,:10])\n",
    "        self.W = self.W - lr * dW\n",
    "        self.b = self.b - lr * db\n",
    "        \n",
    "    def _forward_pass(self, X):\n",
    "        Z = np.dot(self.W, X.T) + self.b\n",
    "        A = 1./ (1 + np.exp(-Z))\n",
    "        return A, Z\n",
    "    \n",
    "    def _backward_pass(self, A, y, X):\n",
    "        #print(\"A.shape = \", A.shape, \" y.shape=\", y.shape)\n",
    "        dW = 1/A.shape[1]*np.dot((A - y), X)\n",
    "        db = 1/A.shape[1]*np.sum(A - y)\n",
    "        #print(\"dW.shape = \", dW.shape, \" db.shape=\", db.shape)\n",
    "        return dW, db\n",
    "    \n",
    "    \n",
    "    def fit(self, X, y, iters=10000, lr=0.0075):\n",
    "        self._init_params(X.shape)\n",
    "\n",
    "        for i in range(iters):\n",
    "            A, Z = self._forward_pass(X)\n",
    "            l = L(y, A)\n",
    "            self.losses.append(l)\n",
    "            if i % 100 == 0:\n",
    "                print(\"iter: \", i, \" loss: \", l, \" acc:\", \n",
    "                      accuracy_score(y.reshape(y.shape[1],), np.round(A.reshape(A.shape[1], ))))\n",
    "            dW, db = self._backward_pass(A, y, X)\n",
    "            self._update_params(dW, db, lr)\n",
    "       \n",
    "    \n",
    "    def predict(self, X):\n",
    "        return 1/(1+ np.exp(- (np.dot(self.W, X.T) + self.b)))\n",
    "        "
   ]
  },
  {
   "cell_type": "code",
   "execution_count": 8,
   "metadata": {},
   "outputs": [],
   "source": [
    "LR = LogisticRegression()"
   ]
  },
  {
   "cell_type": "code",
   "execution_count": 9,
   "metadata": {},
   "outputs": [
    {
     "name": "stdout",
     "output_type": "stream",
     "text": [
      "iter:  0  loss:  1213.4602560587969  acc: 0.495\n",
      "iter:  100  loss:  1955.897322480766  acc: 0.5\n",
      "iter:  200  loss:  1804.8342721564263  acc: 0.507\n",
      "iter:  300  loss:  1715.642113711522  acc: 0.518\n",
      "iter:  400  loss:  1650.6323485925054  acc: 0.522\n",
      "iter:  500  loss:  1599.0055937160864  acc: 0.53\n",
      "iter:  600  loss:  1555.534534399591  acc: 0.535\n",
      "iter:  700  loss:  1517.4592728716948  acc: 0.544\n",
      "iter:  800  loss:  1483.1309576028048  acc: 0.545\n",
      "iter:  900  loss:  1451.4548801785422  acc: 0.549\n",
      "iter:  1000  loss:  1421.694333793202  acc: 0.553\n",
      "iter:  1100  loss:  1393.3707799418216  acc: 0.559\n",
      "iter:  1200  loss:  1366.1920813700294  acc: 0.561\n",
      "iter:  1300  loss:  1339.993660179093  acc: 0.564\n",
      "iter:  1400  loss:  1314.6881481929177  acc: 0.572\n",
      "iter:  1500  loss:  1290.225519358416  acc: 0.578\n",
      "iter:  1600  loss:  1266.5670155787868  acc: 0.584\n",
      "iter:  1700  loss:  1243.6724755957962  acc: 0.589\n",
      "iter:  1800  loss:  1221.4969937457167  acc: 0.591\n",
      "iter:  1900  loss:  1199.9921499951133  acc: 0.594\n",
      "iter:  2000  loss:  1179.1084937630042  acc: 0.594\n",
      "iter:  2100  loss:  1158.797700025609  acc: 0.596\n",
      "iter:  2200  loss:  1139.0139559129361  acc: 0.598\n",
      "iter:  2300  loss:  1119.714652404054  acc: 0.602\n",
      "iter:  2400  loss:  1100.8606040876114  acc: 0.606\n",
      "iter:  2500  loss:  1082.4160209386944  acc: 0.611\n",
      "iter:  2600  loss:  1064.3484268822335  acc: 0.615\n",
      "iter:  2700  loss:  1046.6286931744307  acc: 0.618\n",
      "iter:  2800  loss:  1029.2313098428658  acc: 0.618\n",
      "iter:  2900  loss:  1012.1349173874405  acc: 0.622\n",
      "iter:  3000  loss:  995.3229535886559  acc: 0.627\n",
      "iter:  3100  loss:  978.7840981047877  acc: 0.627\n",
      "iter:  3200  loss:  962.5121482906924  acc: 0.63\n",
      "iter:  3300  loss:  946.5051320138024  acc: 0.639\n",
      "iter:  3400  loss:  930.7637993257537  acc: 0.64\n",
      "iter:  3500  loss:  915.2899195553825  acc: 0.642\n",
      "iter:  3600  loss:  900.0848527594336  acc: 0.648\n",
      "iter:  3700  loss:  885.1486710395461  acc: 0.652\n",
      "iter:  3800  loss:  870.4798446127367  acc: 0.656\n",
      "iter:  3900  loss:  856.0753364633147  acc: 0.659\n",
      "iter:  4000  loss:  841.9309087700555  acc: 0.663\n",
      "iter:  4100  loss:  828.0414875344097  acc: 0.664\n",
      "iter:  4200  loss:  814.4014978970503  acc: 0.667\n",
      "iter:  4300  loss:  801.0051358829198  acc: 0.667\n",
      "iter:  4400  loss:  787.8465735631347  acc: 0.673\n",
      "iter:  4500  loss:  774.9201080876776  acc: 0.676\n",
      "iter:  4600  loss:  762.2202679344225  acc: 0.679\n",
      "iter:  4700  loss:  749.7418877345871  acc: 0.68\n",
      "iter:  4800  loss:  737.4801595775233  acc: 0.683\n",
      "iter:  4900  loss:  725.430665448833  acc: 0.686\n",
      "iter:  5000  loss:  713.5893930790483  acc: 0.691\n",
      "iter:  5100  loss:  701.9527361180005  acc: 0.694\n",
      "iter:  5200  loss:  690.5174790977761  acc: 0.698\n",
      "iter:  5300  loss:  679.2807678868692  acc: 0.7\n",
      "iter:  5400  loss:  668.2400670079783  acc: 0.702\n",
      "iter:  5500  loss:  657.3931060275254  acc: 0.705\n",
      "iter:  5600  loss:  646.737817995437  acc: 0.708\n",
      "iter:  5700  loss:  636.2722734468647  acc: 0.709\n",
      "iter:  5800  loss:  625.9946136767435  acc: 0.711\n",
      "iter:  5900  loss:  615.902986842462  acc: 0.713\n",
      "iter:  6000  loss:  605.9954899821067  acc: 0.718\n",
      "iter:  6100  loss:  596.270119340554  acc: 0.719\n",
      "iter:  6200  loss:  586.7247305769572  acc: 0.721\n",
      "iter:  6300  loss:  577.357009587128  acc: 0.727\n",
      "iter:  6400  loss:  568.1644538992641  acc: 0.733\n",
      "iter:  6500  loss:  559.1443639539214  acc: 0.739\n",
      "iter:  6600  loss:  550.2938430957026  acc: 0.747\n",
      "iter:  6700  loss:  541.6098047972888  acc: 0.75\n",
      "iter:  6800  loss:  533.0889854988027  acc: 0.753\n",
      "iter:  6900  loss:  524.7279614551464  acc: 0.752\n",
      "iter:  7000  loss:  516.5231681099868  acc: 0.756\n",
      "iter:  7100  loss:  508.4709207223216  acc: 0.758\n",
      "iter:  7200  loss:  500.56743522524505  acc: 0.763\n",
      "iter:  7300  loss:  492.80884856491303  acc: 0.767\n",
      "iter:  7400  loss:  485.19123802474013  acc: 0.768\n",
      "iter:  7500  loss:  477.7106392660079  acc: 0.769\n",
      "iter:  7600  loss:  470.3630629991318  acc: 0.772\n",
      "iter:  7700  loss:  463.1445103339869  acc: 0.772\n",
      "iter:  7800  loss:  456.0509869432391  acc: 0.774\n",
      "iter:  7900  loss:  449.07851621431575  acc: 0.777\n",
      "iter:  8000  loss:  442.22315157110165  acc: 0.781\n",
      "iter:  8100  loss:  435.480988125316  acc: 0.784\n",
      "iter:  8200  loss:  428.84817377943216  acc: 0.787\n",
      "iter:  8300  loss:  422.32091985709576  acc: 0.789\n",
      "iter:  8400  loss:  415.89551129094843  acc: 0.791\n",
      "iter:  8500  loss:  409.5683163573635  acc: 0.791\n",
      "iter:  8600  loss:  403.3357959168254  acc: 0.795\n",
      "iter:  8700  loss:  397.1945120993938  acc: 0.798\n",
      "iter:  8800  loss:  391.14113636759276  acc: 0.804\n",
      "iter:  8900  loss:  385.172456892694  acc: 0.808\n",
      "iter:  9000  loss:  379.2853851935016  acc: 0.813\n",
      "iter:  9100  loss:  373.4769620062449  acc: 0.821\n",
      "iter:  9200  loss:  367.74436237775336  acc: 0.826\n",
      "iter:  9300  loss:  362.0848999988386  acc: 0.832\n",
      "iter:  9400  loss:  356.49603081828974  acc: 0.837\n",
      "iter:  9500  loss:  350.97535599835703  acc: 0.84\n",
      "iter:  9600  loss:  345.5206242886853  acc: 0.844\n",
      "iter:  9700  loss:  340.1297339067893  acc: 0.846\n",
      "iter:  9800  loss:  334.8007340196036  acc: 0.847\n",
      "iter:  9900  loss:  329.5318259230759  acc: 0.85\n"
     ]
    }
   ],
   "source": [
    "LR.fit(X_train, y_train.T)"
   ]
  },
  {
   "cell_type": "code",
   "execution_count": 10,
   "metadata": {},
   "outputs": [],
   "source": [
    "y_hat = LR.predict(X_test) \n",
    "y_hat = np.round(y_hat.reshape(y_hat.shape[1],))"
   ]
  },
  {
   "cell_type": "code",
   "execution_count": 11,
   "metadata": {},
   "outputs": [
    {
     "data": {
      "text/plain": [
       "array([0., 0., 0., 0., 0., 0., 0., 0., 1., 0., 0., 0., 1., 0., 0., 0., 1.,\n",
       "       0., 1., 0., 0., 0., 1., 0., 0., 0., 0., 0., 0., 0., 0., 0., 0., 1.,\n",
       "       0., 0., 0., 0., 0., 1., 0., 1., 0., 1., 1., 1., 1., 1., 0., 1., 1.,\n",
       "       0., 0., 1., 0., 0., 0., 0., 1., 0., 0., 1., 0., 0., 0., 0., 0., 1.,\n",
       "       0., 0., 1., 0., 0., 0., 0., 1., 0., 0., 1., 1., 0., 0., 0., 0., 0.,\n",
       "       0., 1., 0., 0., 1., 0., 0., 0., 0., 0., 0., 0., 0., 0., 0., 0., 0.,\n",
       "       0., 1., 0., 0., 0., 1., 0., 1., 0., 0., 0., 0., 0., 0., 0., 1., 0.,\n",
       "       0., 0., 1., 0., 1., 1., 0., 0., 1., 0., 0., 0., 1., 0., 0., 0., 1.,\n",
       "       0., 0., 0., 0., 0., 0., 0., 1., 0., 1., 0., 0., 0., 0., 0., 0., 0.,\n",
       "       0., 0., 0., 0., 1., 0., 1., 0., 1., 0., 1., 0., 0., 0., 0., 1., 0.,\n",
       "       0., 0., 0., 0., 1., 0., 0., 0., 0., 0., 0., 0., 0., 0., 0., 0., 0.,\n",
       "       0., 1., 0., 0., 0., 0., 1., 0., 1., 0., 0., 0., 0.])"
      ]
     },
     "execution_count": 11,
     "metadata": {},
     "output_type": "execute_result"
    }
   ],
   "source": [
    "y_hat"
   ]
  },
  {
   "cell_type": "code",
   "execution_count": 12,
   "metadata": {},
   "outputs": [
    {
     "data": {
      "text/plain": [
       "((200,), (200,))"
      ]
     },
     "execution_count": 12,
     "metadata": {},
     "output_type": "execute_result"
    }
   ],
   "source": [
    "y_hat.shape, y_test.reshape(y_test.shape[0], ).shape"
   ]
  },
  {
   "cell_type": "code",
   "execution_count": 13,
   "metadata": {},
   "outputs": [
    {
     "data": {
      "text/plain": [
       "0.52"
      ]
     },
     "execution_count": 13,
     "metadata": {},
     "output_type": "execute_result"
    }
   ],
   "source": [
    "accuracy_score(y_test, y_hat)"
   ]
  },
  {
   "cell_type": "markdown",
   "metadata": {},
   "source": [
    "## Модель просто не тянет это поднять"
   ]
  }
 ],
 "metadata": {
  "kernelspec": {
   "display_name": "Python 3",
   "language": "python",
   "name": "python3"
  },
  "language_info": {
   "codemirror_mode": {
    "name": "ipython",
    "version": 3
   },
   "file_extension": ".py",
   "mimetype": "text/x-python",
   "name": "python",
   "nbconvert_exporter": "python",
   "pygments_lexer": "ipython3",
   "version": "3.7.6"
  }
 },
 "nbformat": 4,
 "nbformat_minor": 4
}
